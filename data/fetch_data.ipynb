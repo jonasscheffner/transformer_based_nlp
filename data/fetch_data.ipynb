{
 "cells": [
  {
   "cell_type": "code",
   "execution_count": 1,
   "id": "041b4f20-530c-4561-ad2b-0f0057161923",
   "metadata": {},
   "outputs": [],
   "source": [
    "import gzip\n",
    "import json\n",
    "import random"
   ]
  },
  {
   "cell_type": "code",
   "execution_count": 16,
   "id": "747af235-6129-431c-aaf5-51deb647f691",
   "metadata": {},
   "outputs": [],
   "source": [
    "def load_prism_data_from_jsonl_gz_file(file_path: str, category: str) -> list[dict[str, int]]:\n",
    "    \"\"\"\n",
    "    load a GZ-encoded jsonl file, and extract samples with their corresponding labels\n",
    "    Parameters:\n",
    "        - file_path: file path to the GZ-encoded jsonl-file\n",
    "    Returns:\n",
    "        - array containing samples with their corresponding labels\n",
    "    \"\"\"\n",
    "    samples = []\n",
    "    with gzip.open(file_path, 'rt', encoding='utf-8') as file:\n",
    "        for line in file:\n",
    "            sample = json.loads(line)\n",
    "            sample[\"category\"] = category\n",
    "            samples.append(sample)\n",
    "    print(f\"Samples for {file_path}: {len(samples)}\")\n",
    "    return samples"
   ]
  },
  {
   "cell_type": "code",
   "execution_count": 17,
   "id": "f8edc883-cf4b-4712-bc9c-4f40d0be09af",
   "metadata": {},
   "outputs": [],
   "source": [
    "def create_balanced_category_samples(human_path: str, ai_path_gpt: str, ai_path_gemma: str, n_total: int, category: str) -> list[dict[str, int]]:\n",
    "    \"\"\"\n",
    "    Create a balanced sample list of size `n_total` with equal human and AI samples.\n",
    "    Parameters:\n",
    "        - human_path: file path to the GZ-encoded jsonl-file with human samples\n",
    "        - ai_path: file path to the GZ-encoded jsonl-file with ai samples\n",
    "        - n_total: how many examples per file\n",
    "    Returns:\n",
    "        - array containing samples with their corresponding labels\n",
    "    \"\"\"\n",
    "    human_samples = load_prism_data_from_jsonl_gz_file(human_path, category)\n",
    "    ai_samples = load_prism_data_from_jsonl_gz_file(ai_path_gpt, category) + load_prism_data_from_jsonl_gz_file(ai_path_gemma, category)\n",
    "\n",
    "    #n_per_class = n_total // 2\n",
    "    #human_samples = random.sample(human_samples, min(n_per_class, len(human_samples)))\n",
    "    #ai_samples = random.sample(ai_samples, min(n_per_class, len(ai_samples)))\n",
    "\n",
    "    combined = human_samples + ai_samples\n",
    "    random.shuffle(combined)\n",
    "    return combined"
   ]
  },
  {
   "cell_type": "code",
   "execution_count": 18,
   "id": "d503fe2f-7433-4f41-a5c3-8e651dfd2f17",
   "metadata": {},
   "outputs": [],
   "source": [
    "samples_per_category = 7000"
   ]
  },
  {
   "cell_type": "code",
   "execution_count": 19,
   "id": "b902479a-a758-4487-abd2-bf5fb00a054c",
   "metadata": {},
   "outputs": [],
   "source": [
    "categories = {\n",
    "    \"arxiv\": (\"arxiv/human.jsonl.gz\", \"arxiv/gpt_4o_mini.jsonl.gz\", \"arxiv/gemma2_9b.jsonl.gz\"),\n",
    "    \"blog_authorship_corpus\": (\"blog_authorship_corpus/human.jsonl.gz\", \"blog_authorship_corpus/gpt_4o_mini.jsonl.gz\", \"blog_authorship_corpus/gemma2_9b.jsonl.gz\"),\n",
    "    \"bundestag\": (\"bundestag/human.jsonl.gz\", \"bundestag/gpt_4o_mini.jsonl.gz\", \"bundestag/gemma2_9b.jsonl.gz\"),\n",
    "    \"cnn\": (\"cnn/human.jsonl.gz\", \"cnn/gpt_4o_mini.jsonl.gz\", \"cnn/gemma2_9b.jsonl.gz\"),\n",
    "    \"euro_court\": (\"euro_court/human.jsonl.gz\", \"euro_court/gpt_4o_mini.jsonl.gz\", \"euro_court/gemma2_9b.jsonl.gz\"),\n",
    "    \"gutenberg_de\": (\"gutenberg_de/human.jsonl.gz\", \"gutenberg_de/gpt_4o_mini.jsonl.gz\", \"gutenberg_de/gemma2_9b.jsonl.gz\"),\n",
    "    \"gutenberg_en\": (\"gutenberg_en/human.jsonl.gz\", \"gutenberg_en/gpt_4o_mini.jsonl.gz\", \"gutenberg_en/gemma2_9b.jsonl.gz\"),\n",
    "    \"house_of_commons\": (\"house_of_commons/human.jsonl.gz\", \"house_of_commons/gpt_4o_mini.jsonl.gz\", \"house_of_commons/gemma2_9b.jsonl.gz\"),\n",
    "    \"spiegel\": (\"spiegel/human.jsonl.gz\", \"spiegel/gpt_4o_mini.jsonl.gz\", \"spiegel/gemma2_9b.jsonl.gz\"),\n",
    "    \"student_essays\": (\"student_essays/human.jsonl.gz\", \"student_essays/gpt_4o_mini.jsonl.gz\", \"student_essays/gemma2_9b.jsonl.gz\")\n",
    "}"
   ]
  },
  {
   "cell_type": "code",
   "execution_count": 20,
   "id": "f222505e-4d1e-437c-9df6-9986fbf44932",
   "metadata": {},
   "outputs": [],
   "source": [
    "all_category_samples = {}"
   ]
  },
  {
   "cell_type": "code",
   "execution_count": 21,
   "id": "e3302870-3c1a-4d2c-856e-2c9dcad0cf51",
   "metadata": {},
   "outputs": [],
   "source": [
    "# Für Reproduzierbarkeit\n",
    "random.seed(42)"
   ]
  },
  {
   "cell_type": "code",
   "execution_count": 22,
   "id": "58f5443a-cae7-4904-aaa3-fdc1269425e5",
   "metadata": {},
   "outputs": [
    {
     "name": "stdout",
     "output_type": "stream",
     "text": [
      "Samples for arxiv/human.jsonl.gz: 8448\n",
      "Samples for arxiv/gpt_4o_mini.jsonl.gz: 7173\n",
      "Samples for arxiv/gemma2_9b.jsonl.gz: 7780\n",
      "arxiv samples collected: 23401\n",
      "Samples for blog_authorship_corpus/human.jsonl.gz: 18614\n",
      "Samples for blog_authorship_corpus/gpt_4o_mini.jsonl.gz: 4576\n",
      "Samples for blog_authorship_corpus/gemma2_9b.jsonl.gz: 14674\n",
      "blog_authorship_corpus samples collected: 37864\n",
      "Samples for bundestag/human.jsonl.gz: 18323\n",
      "Samples for bundestag/gpt_4o_mini.jsonl.gz: 10057\n",
      "Samples for bundestag/gemma2_9b.jsonl.gz: 13403\n",
      "bundestag samples collected: 41783\n",
      "Samples for cnn/human.jsonl.gz: 18773\n",
      "Samples for cnn/gpt_4o_mini.jsonl.gz: 11814\n",
      "Samples for cnn/gemma2_9b.jsonl.gz: 13799\n",
      "cnn samples collected: 44386\n",
      "Samples for euro_court/human.jsonl.gz: 9148\n",
      "Samples for euro_court/gpt_4o_mini.jsonl.gz: 3761\n",
      "Samples for euro_court/gemma2_9b.jsonl.gz: 8909\n",
      "euro_court samples collected: 21818\n",
      "Samples for gutenberg_de/human.jsonl.gz: 372\n",
      "Samples for gutenberg_de/gpt_4o_mini.jsonl.gz: 100\n",
      "Samples for gutenberg_de/gemma2_9b.jsonl.gz: 338\n",
      "gutenberg_de samples collected: 810\n",
      "Samples for gutenberg_en/human.jsonl.gz: 6801\n",
      "Samples for gutenberg_en/gpt_4o_mini.jsonl.gz: 1485\n",
      "Samples for gutenberg_en/gemma2_9b.jsonl.gz: 6575\n",
      "gutenberg_en samples collected: 14861\n",
      "Samples for house_of_commons/human.jsonl.gz: 13760\n",
      "Samples for house_of_commons/gpt_4o_mini.jsonl.gz: 5961\n",
      "Samples for house_of_commons/gemma2_9b.jsonl.gz: 13343\n",
      "house_of_commons samples collected: 33064\n",
      "Samples for spiegel/human.jsonl.gz: 16487\n",
      "Samples for spiegel/gpt_4o_mini.jsonl.gz: 12253\n",
      "Samples for spiegel/gemma2_9b.jsonl.gz: 14284\n",
      "spiegel samples collected: 43024\n",
      "Samples for student_essays/human.jsonl.gz: 42311\n",
      "Samples for student_essays/gpt_4o_mini.jsonl.gz: 36239\n",
      "Samples for student_essays/gemma2_9b.jsonl.gz: 15177\n",
      "student_essays samples collected: 93727\n"
     ]
    }
   ],
   "source": [
    "for category, (human_path, ai_path_gpt, ai_path_gemma) in categories.items():\n",
    "    samples = create_balanced_category_samples(human_path, ai_path_gpt, ai_path_gemma, samples_per_category, category)\n",
    "    all_category_samples[category] = samples\n",
    "    print(f\"{category} samples collected: {len(samples)}\")"
   ]
  },
  {
   "cell_type": "code",
   "execution_count": 23,
   "id": "d60a665c-de69-4b16-8b1e-59256cdda508",
   "metadata": {},
   "outputs": [
    {
     "name": "stdout",
     "output_type": "stream",
     "text": [
      "Total collected samples across all categories: 354738\n"
     ]
    }
   ],
   "source": [
    "all_samples = []\n",
    "for samples in all_category_samples.values():\n",
    "    all_samples.extend(samples)\n",
    "print(f\"Total collected samples across all categories: {len(all_samples)}\")"
   ]
  },
  {
   "cell_type": "code",
   "execution_count": 24,
   "id": "f677fe46-db30-4424-ba8b-0c54729a97b9",
   "metadata": {},
   "outputs": [],
   "source": [
    "random.shuffle(all_samples)"
   ]
  },
  {
   "cell_type": "code",
   "execution_count": 25,
   "id": "031840a6-aa7d-4a3c-adf5-12e90b68336f",
   "metadata": {},
   "outputs": [
    {
     "name": "stdout",
     "output_type": "stream",
     "text": [
      "153037\n"
     ]
    }
   ],
   "source": [
    "dict_by_source = {sample[\"id_source\"]: sample for sample in all_samples}\n",
    "all_samples = list(dict_by_source.values())\n",
    "print(len(all_samples))"
   ]
  },
  {
   "cell_type": "code",
   "execution_count": 26,
   "id": "5b89aee7-d0cc-4e48-a78c-becc9014f68a",
   "metadata": {},
   "outputs": [
    {
     "data": {
      "image/png": "[encoded data removed]",
      "text/plain": [
       "<Figure size 600x600 with 1 Axes>"
      ]
     },
     "metadata": {},
     "output_type": "display_data"
    }
   ],
   "source": [
    "import matplotlib.pyplot as plt\n",
    "from collections import Counter\n",
    "\n",
    "labels = [example['label'] for example in all_samples]\n",
    "label_counts = Counter(labels)\n",
    "\n",
    "label_names = {0: 'Human', 1: 'AI'}\n",
    "counts_named = {label_names[k]: v for k, v in label_counts.items()}\n",
    "\n",
    "# Kreisdiagramm zeichnen\n",
    "plt.figure(figsize=(6, 6))\n",
    "plt.pie(counts_named.values(), labels=counts_named.keys(), autopct='%1.1f%%')\n",
    "plt.title('Verteilung von KI- und Mensch-Texten')\n",
    "plt.show()"
   ]
  },
  {
   "cell_type": "code",
   "execution_count": 27,
   "id": "e999a472-1bad-4335-aa21-63a69d6e6778",
   "metadata": {},
   "outputs": [],
   "source": [
    "def save_samples_to_jsonl(samples: list[dict[str, int]], output_path: str):\n",
    "    \"\"\"\n",
    "    Save list of samples to a .jsonl file.\n",
    "    Parameters:\n",
    "        - samples: to be saved\n",
    "        - output_path: file path where the file should be saved\n",
    "    Returns:\n",
    "        - none\n",
    "    \"\"\"\n",
    "    with open(output_path, 'w', encoding='utf-8') as f:\n",
    "        for sample in samples:\n",
    "            json.dump(sample, f, ensure_ascii=False)\n",
    "            f.write('\\n')"
   ]
  },
  {
   "cell_type": "code",
   "execution_count": 28,
   "id": "b6a05b02-ba31-4331-b2ef-c38f696d4538",
   "metadata": {},
   "outputs": [],
   "source": [
    "save_samples_to_jsonl(all_samples, \"dataset_no_dupes.jsonl\")"
   ]
  },
  {
   "cell_type": "code",
   "execution_count": null,
   "id": "1b95c875-209b-4bae-bec4-f2f3cc315dda",
   "metadata": {},
   "outputs": [],
   "source": [
    "test = []\n",
    "with open(\"dataset_no_dupes.jsonl\", 'r', encoding='utf-8') as f:\n",
    "    for line in f:\n",
    "        test.append(json.loads(line))\n",
    "\n",
    "print(len(test))"
   ]
  },
  {
   "cell_type": "code",
   "execution_count": null,
   "id": "7f146830-c3ed-4566-b4ed-f6032c7c4383",
   "metadata": {},
   "outputs": [],
   "source": []
  }
 ],
 "metadata": {
  "kernelspec": {
   "display_name": "Python 3 (ipykernel)",
   "language": "python",
   "name": "python3"
  },
  "language_info": {
   "codemirror_mode": {
    "name": "ipython",
    "version": 3
   },
   "file_extension": ".py",
   "mimetype": "text/x-python",
   "name": "python",
   "nbconvert_exporter": "python",
   "pygments_lexer": "ipython3",
   "version": "3.9.1"
  }
 },
 "nbformat": 4,
 "nbformat_minor": 5
}
