{
 "cells": [
  {
   "cell_type": "code",
   "execution_count": 1,
   "id": "041b4f20-530c-4561-ad2b-0f0057161923",
   "metadata": {},
   "outputs": [],
   "source": [
    "import gzip\n",
    "import json\n",
    "import random"
   ]
  },
  {
   "cell_type": "code",
   "execution_count": 2,
   "id": "747af235-6129-431c-aaf5-51deb647f691",
   "metadata": {},
   "outputs": [],
   "source": [
    "def load_prism_data_from_jsonl_gz_file(file_path: str) -> list[dict[str, int]]:\n",
    "    \"\"\"\n",
    "    load a GZ-encoded jsonl file, and extract samples with their corresponding labels\n",
    "    Parameters:\n",
    "        - file_path: file path to the GZ-encoded jsonl-file\n",
    "    Returns:\n",
    "        - array containing samples with their corresponding labels\n",
    "    \"\"\"\n",
    "    samples = []\n",
    "    with gzip.open(file_path, 'rt', encoding='utf-8') as file:\n",
    "        for line in file:\n",
    "            sample = json.loads(line)\n",
    "            samples.append({\"text\": sample[\"text\"], \"label\": sample[\"label\"]})\n",
    "    return samples"
   ]
  },
  {
   "cell_type": "code",
   "execution_count": 3,
   "id": "f8edc883-cf4b-4712-bc9c-4f40d0be09af",
   "metadata": {},
   "outputs": [],
   "source": [
    "def create_balanced_category_samples(human_path: str, ai_path: str, n_total: int) -> list[dict[str, int]]:\n",
    "    \"\"\"\n",
    "    Create a balanced sample list of size `n_total` with equal human and AI samples.\n",
    "    Parameters:\n",
    "        - human_path: file path to the GZ-encoded jsonl-file with human samples\n",
    "        - ai_path: file path to the GZ-encoded jsonl-file with ai samples\n",
    "        - n_total: how many examples per file\n",
    "    Returns:\n",
    "        - array containing samples with their corresponding labels\n",
    "    \"\"\"\n",
    "    human_samples = load_prism_data_from_jsonl_gz_file(human_path)\n",
    "    ai_samples = load_prism_data_from_jsonl_gz_file(ai_path)\n",
    "\n",
    "    n_per_class = n_total // 2\n",
    "    human_samples = random.sample(human_samples, min(n_per_class, len(human_samples)))\n",
    "    ai_samples = random.sample(ai_samples, min(n_per_class, len(ai_samples)))\n",
    "\n",
    "    combined = human_samples + ai_samples\n",
    "    random.shuffle(combined)\n",
    "    return combined"
   ]
  },
  {
   "cell_type": "code",
   "execution_count": 4,
   "id": "d503fe2f-7433-4f41-a5c3-8e651dfd2f17",
   "metadata": {},
   "outputs": [],
   "source": [
    "samples_per_category = 7000"
   ]
  },
  {
   "cell_type": "code",
   "execution_count": 5,
   "id": "b902479a-a758-4487-abd2-bf5fb00a054c",
   "metadata": {},
   "outputs": [],
   "source": [
    "categories = {\n",
    "    \"arxiv\": (\"arxiv/human.jsonl.gz\", \"arxiv/gpt_4o_mini.jsonl.gz\"),\n",
    "    \"blog_authorship_corpus\": (\"blog_authorship_corpus/human.jsonl.gz\", \"blog_authorship_corpus/gpt_4o_mini.jsonl.gz\"),\n",
    "    \"bundestag\": (\"bundestag/human.jsonl.gz\", \"bundestag/gpt_4o_mini.jsonl.gz\"),\n",
    "    \"cnn\": (\"cnn/human.jsonl.gz\", \"cnn/gpt_4o_mini.jsonl.gz\"),\n",
    "    \"euro_court\": (\"euro_court/human.jsonl.gz\", \"euro_court/gpt_4o_mini.jsonl.gz\"),\n",
    "    \"gutenberg_de\": (\"gutenberg_de/human.jsonl.gz\", \"gutenberg_de/gpt_4o_mini.jsonl.gz\"),\n",
    "    \"gutenberg_en\": (\"gutenberg_en/human.jsonl.gz\", \"gutenberg_en/gpt_4o_mini.jsonl.gz\"),\n",
    "    \"house_of_commons\": (\"house_of_commons/human.jsonl.gz\", \"house_of_commons/gpt_4o_mini.jsonl.gz\"),\n",
    "    \"spiegel\": (\"spiegel/human.jsonl.gz\", \"spiegel/gpt_4o_mini.jsonl.gz\"),\n",
    "    \"student_essays\": (\"student_essays/human.jsonl.gz\", \"student_essays/gpt_4o_mini.jsonl.gz\")\n",
    "}"
   ]
  },
  {
   "cell_type": "code",
   "execution_count": 6,
   "id": "f222505e-4d1e-437c-9df6-9986fbf44932",
   "metadata": {},
   "outputs": [],
   "source": [
    "all_category_samples = {}"
   ]
  },
  {
   "cell_type": "code",
   "execution_count": 7,
   "id": "e3302870-3c1a-4d2c-856e-2c9dcad0cf51",
   "metadata": {},
   "outputs": [],
   "source": [
    "# Für Reproduzierbarkeit\n",
    "random.seed(42)"
   ]
  },
  {
   "cell_type": "code",
   "execution_count": 8,
   "id": "58f5443a-cae7-4904-aaa3-fdc1269425e5",
   "metadata": {},
   "outputs": [
    {
     "name": "stdout",
     "output_type": "stream",
     "text": [
      "arxiv samples collected: 7000\n",
      "blog_authorship_corpus samples collected: 7000\n",
      "bundestag samples collected: 7000\n",
      "cnn samples collected: 7000\n",
      "euro_court samples collected: 7000\n",
      "gutenberg_de samples collected: 472\n",
      "gutenberg_en samples collected: 4985\n",
      "house_of_commons samples collected: 7000\n",
      "spiegel samples collected: 7000\n",
      "student_essays samples collected: 7000\n"
     ]
    }
   ],
   "source": [
    "for category, (human_path, ai_path) in categories.items():\n",
    "    samples = create_balanced_category_samples(human_path, ai_path, samples_per_category)\n",
    "    all_category_samples[category] = samples\n",
    "    print(f\"{category} samples collected: {len(samples)}\")"
   ]
  },
  {
   "cell_type": "code",
   "execution_count": 9,
   "id": "d60a665c-de69-4b16-8b1e-59256cdda508",
   "metadata": {},
   "outputs": [
    {
     "name": "stdout",
     "output_type": "stream",
     "text": [
      "Total collected samples across all categories: 61457\n"
     ]
    }
   ],
   "source": [
    "all_samples = []\n",
    "for samples in all_category_samples.values():\n",
    "    all_samples.extend(samples)\n",
    "print(f\"Total collected samples across all categories: {len(all_samples)}\")"
   ]
  },
  {
   "cell_type": "code",
   "execution_count": 10,
   "id": "f677fe46-db30-4424-ba8b-0c54729a97b9",
   "metadata": {},
   "outputs": [],
   "source": [
    "random.shuffle(all_samples)"
   ]
  },
  {
   "cell_type": "code",
   "execution_count": 11,
   "id": "5b89aee7-d0cc-4e48-a78c-becc9014f68a",
   "metadata": {},
   "outputs": [
    {
     "data": {
      "image/png": "[encoded data removed]",
      "text/plain": [
       "<Figure size 600x600 with 1 Axes>"
      ]
     },
     "metadata": {},
     "output_type": "display_data"
    }
   ],
   "source": [
    "import matplotlib.pyplot as plt\n",
    "from collections import Counter\n",
    "\n",
    "labels = [example['label'] for example in all_samples]\n",
    "label_counts = Counter(labels)\n",
    "\n",
    "label_names = {0: 'Human', 1: 'AI'}\n",
    "counts_named = {label_names[k]: v for k, v in label_counts.items()}\n",
    "\n",
    "# Kreisdiagramm zeichnen\n",
    "plt.figure(figsize=(6, 6))\n",
    "plt.pie(counts_named.values(), labels=counts_named.keys(), autopct='%1.1f%%')\n",
    "plt.title('Verteilung von KI- und Mensch-Texten')\n",
    "plt.show()"
   ]
  },
  {
   "cell_type": "code",
   "execution_count": 12,
   "id": "e999a472-1bad-4335-aa21-63a69d6e6778",
   "metadata": {},
   "outputs": [],
   "source": [
    "def save_samples_to_jsonl(samples: list[dict[str, int]], output_path: str):\n",
    "    \"\"\"\n",
    "    Save list of samples to a .jsonl file.\n",
    "    Parameters:\n",
    "        - samples: to be saved\n",
    "        - output_path: file path where the file should be saved\n",
    "    Returns:\n",
    "        - none\n",
    "    \"\"\"\n",
    "    with open(output_path, 'w', encoding='utf-8') as f:\n",
    "        for sample in samples:\n",
    "            json.dump(sample, f, ensure_ascii=False)\n",
    "            f.write('\\n')"
   ]
  },
  {
   "cell_type": "code",
   "execution_count": 13,
   "id": "b6a05b02-ba31-4331-b2ef-c38f696d4538",
   "metadata": {},
   "outputs": [],
   "source": [
    "save_samples_to_jsonl(all_samples, \"dataset.jsonl\")"
   ]
  },
  {
   "cell_type": "code",
   "execution_count": 14,
   "id": "1b95c875-209b-4bae-bec4-f2f3cc315dda",
   "metadata": {},
   "outputs": [
    {
     "name": "stdout",
     "output_type": "stream",
     "text": [
      "61457\n"
     ]
    }
   ],
   "source": [
    "test = []\n",
    "with open(\"dataset.jsonl\", 'r', encoding='utf-8') as f:\n",
    "    for line in f:\n",
    "        test.append(json.loads(line))\n",
    "\n",
    "print(len(test))"
   ]
  },
  {
   "cell_type": "code",
   "execution_count": 15,
   "id": "7c990ad7-1da0-4e15-bd3d-b5b5c5002c53",
   "metadata": {},
   "outputs": [
    {
     "data": {
      "text/plain": [
       "{'text': 'To a lady who is feeling a little low: - ‘When your feelin’ low To whom else do you go? I’d cry if you hurt I’d give you my last shirt Because I love you so’ Seriously though, if you ever need to get out of your house you are always welcome to invade mine!! My family are a little weird, but they don’t bite! You don’t even have to talk to me, you can just sit/sleep whatever you want sweetheart; my house is your house!! Love your Nat xxxxx p.s I have been on human for sale (its really funny, tells you how much you are worth) I am currrently worth: You are worth exactly: $2,172,370.00. hehheheehe thats the highest ever!!! woo lol, hmmm i think they have made a mistake dont you!',\n",
       " 'label': 0}"
      ]
     },
     "execution_count": 15,
     "metadata": {},
     "output_type": "execute_result"
    }
   ],
   "source": [
    "all_samples[15_000]"
   ]
  },
  {
   "cell_type": "code",
   "execution_count": 16,
   "id": "817369d8-e552-4c4d-bf12-83adc0522942",
   "metadata": {},
   "outputs": [
    {
     "data": {
      "text/plain": [
       "{'text': 'To a lady who is feeling a little low: - ‘When your feelin’ low To whom else do you go? I’d cry if you hurt I’d give you my last shirt Because I love you so’ Seriously though, if you ever need to get out of your house you are always welcome to invade mine!! My family are a little weird, but they don’t bite! You don’t even have to talk to me, you can just sit/sleep whatever you want sweetheart; my house is your house!! Love your Nat xxxxx p.s I have been on human for sale (its really funny, tells you how much you are worth) I am currrently worth: You are worth exactly: $2,172,370.00. hehheheehe thats the highest ever!!! woo lol, hmmm i think they have made a mistake dont you!',\n",
       " 'label': 0}"
      ]
     },
     "execution_count": 16,
     "metadata": {},
     "output_type": "execute_result"
    }
   ],
   "source": [
    "test[15_000]"
   ]
  }
 ],
 "metadata": {
  "kernelspec": {
   "display_name": "Python 3 (ipykernel)",
   "language": "python",
   "name": "python3"
  },
  "language_info": {
   "codemirror_mode": {
    "name": "ipython",
    "version": 3
   },
   "file_extension": ".py",
   "mimetype": "text/x-python",
   "name": "python",
   "nbconvert_exporter": "python",
   "pygments_lexer": "ipython3",
   "version": "3.9.1"
  }
 },
 "nbformat": 4,
 "nbformat_minor": 5
}
