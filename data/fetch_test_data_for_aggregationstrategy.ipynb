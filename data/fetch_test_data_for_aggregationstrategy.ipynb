{
 "cells": [
  {
   "cell_type": "code",
   "execution_count": 1,
   "id": "785c117c-5d66-4d99-9f92-61f147b75376",
   "metadata": {},
   "outputs": [],
   "source": [
    "import json\n",
    "from sklearn.model_selection import train_test_split"
   ]
  },
  {
   "cell_type": "code",
   "execution_count": 2,
   "id": "ca88c3b0-a65b-49cc-b439-2de2ec37630a",
   "metadata": {},
   "outputs": [],
   "source": [
    "samples = []\n",
    "with open(\"dataset_no_dupes.jsonl\", 'r', encoding='utf-8') as f:\n",
    "    for line in f:\n",
    "        samples.append(json.loads(line))"
   ]
  },
  {
   "cell_type": "code",
   "execution_count": 3,
   "id": "b5758e38-3a69-42f8-babb-e0425e42ae89",
   "metadata": {},
   "outputs": [],
   "source": [
    "train_data, temp_data = train_test_split(samples, train_size=75000, random_state=42)\n",
    "test_data, val_data = train_test_split(temp_data, test_size=25000, random_state=42)"
   ]
  },
  {
   "cell_type": "code",
   "execution_count": 4,
   "id": "b53fb0c2-8465-485d-8951-371548fcc135",
   "metadata": {},
   "outputs": [
    {
     "name": "stdout",
     "output_type": "stream",
     "text": [
      "53037\n"
     ]
    }
   ],
   "source": [
    "print(len(test_data))"
   ]
  },
  {
   "cell_type": "code",
   "execution_count": 5,
   "id": "37c47e78-db6d-4b20-b194-bbde6714ed08",
   "metadata": {},
   "outputs": [],
   "source": [
    "def save_samples_to_jsonl(samples: list[dict[str, int]], output_path: str):\n",
    "    \"\"\"\n",
    "    Save list of samples to a .jsonl file.\n",
    "    Parameters:\n",
    "        - samples: to be saved\n",
    "        - output_path: file path where the file should be saved\n",
    "    Returns:\n",
    "        - none\n",
    "    \"\"\"\n",
    "    with open(output_path, 'w', encoding='utf-8') as f:\n",
    "        for sample in samples:\n",
    "            json.dump(sample, f, ensure_ascii=False)\n",
    "            f.write('\\n')"
   ]
  },
  {
   "cell_type": "code",
   "execution_count": 6,
   "id": "db19b8fe-f103-4b36-b639-1c4d839a833c",
   "metadata": {},
   "outputs": [],
   "source": [
    "save_samples_to_jsonl(test_data, \"test_dataset_no_dupes_for_aggregationstrategy.jsonl\")"
   ]
  },
  {
   "cell_type": "code",
   "execution_count": null,
   "id": "797358fb-5d6f-4939-9388-c18c8a47badc",
   "metadata": {},
   "outputs": [],
   "source": []
  }
 ],
 "metadata": {
  "kernelspec": {
   "display_name": "Python 3 (ipykernel)",
   "language": "python",
   "name": "python3"
  },
  "language_info": {
   "codemirror_mode": {
    "name": "ipython",
    "version": 3
   },
   "file_extension": ".py",
   "mimetype": "text/x-python",
   "name": "python",
   "nbconvert_exporter": "python",
   "pygments_lexer": "ipython3",
   "version": "3.9.1"
  }
 },
 "nbformat": 4,
 "nbformat_minor": 5
}
