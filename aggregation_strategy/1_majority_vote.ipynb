{
 "cells": [
  {
   "cell_type": "code",
   "execution_count": 1,
   "id": "d046683d-da17-4270-8985-3ffd97e05ac1",
   "metadata": {},
   "outputs": [],
   "source": [
    "from transformers import AutoTokenizer, AutoModelForSequenceClassification, Trainer, TrainingArguments\n",
    "import numpy as np\n",
    "import evaluate\n",
    "import torch\n",
    "import torch.nn.functional as F\n",
    "from nltk.tokenize import sent_tokenize\n",
    "import json\n",
    "from datasets import Dataset, DatasetDict\n",
    "from sklearn.model_selection import train_test_split"
   ]
  },
  {
   "cell_type": "code",
   "execution_count": 2,
   "id": "b42bee95-4a06-4718-b329-c0cd0f42d4c0",
   "metadata": {},
   "outputs": [],
   "source": [
    "def split_into_paragraphs(text, max_sentences=7):\n",
    "    sentences = sent_tokenize(text)\n",
    "    paragraphs = []\n",
    "    for i in range(0, len(sentences), max_sentences):\n",
    "        para = \" \".join(sentences[i : i + max_sentences]).strip()\n",
    "        if para:\n",
    "            paragraphs.append(para)\n",
    "    return paragraphs"
   ]
  },
  {
   "cell_type": "code",
   "execution_count": 3,
   "id": "30dd4021-80a6-4f82-ac0a-b7db4608a13a",
   "metadata": {},
   "outputs": [],
   "source": [
    "def predict_whole_text(text, tokenizer, model):\n",
    "    \"\"\"\n",
    "    Predicts if a text is human (label = 0) or AI (label = 1)\n",
    "    Parameters:\n",
    "        text: text to predict\n",
    "    Returns:\n",
    "        dict: prediction and probabilities\n",
    "    \"\"\"\n",
    "    inputs = tokenizer(text, return_tensors=\"pt\", truncation=True)\n",
    "\n",
    "    model.eval()\n",
    "    \n",
    "    with torch.no_grad():\n",
    "        outputs = model(**inputs)\n",
    "        logits = outputs.logits\n",
    "        \n",
    "        probabilities = F.softmax(logits, dim=-1)\n",
    "\n",
    "        predicted_class = torch.argmax(probabilities, dim=-1).item()\n",
    "        \n",
    "        human_prob = probabilities[0][0].item()\n",
    "        ai_prob = probabilities[0][1].item()\n",
    "    \n",
    "    result = {\n",
    "        \"prediction\": predicted_class,\n",
    "        \"confidence\": max(human_prob, ai_prob),\n",
    "        \"probabilities\": {\n",
    "            \"human\": human_prob,\n",
    "            \"ai\": ai_prob\n",
    "        }\n",
    "    }\n",
    "    \n",
    "    return result"
   ]
  },
  {
   "cell_type": "code",
   "execution_count": 4,
   "id": "2bec34ac-3fe8-4ea6-9be5-aeaf02831326",
   "metadata": {},
   "outputs": [],
   "source": [
    "def predict_paragraph(text, tokenizer, model, max_sentences=7):\n",
    "    paragraphs = split_into_paragraphs(text, max_sentences)\n",
    "    \n",
    "    model.eval()\n",
    "\n",
    "    predictions = []\n",
    "    for paragraph in paragraphs:\n",
    "        inputs = tokenizer(paragraph, return_tensors=\"pt\", truncation=True, padding=True, max_length=512)\n",
    "        with torch.no_grad():\n",
    "            outputs = model(**inputs)\n",
    "            probs = F.softmax(outputs.logits, dim=-1)\n",
    "            pred = torch.argmax(probs, dim=-1).item()\n",
    "            predictions.append(pred)\n",
    "\n",
    "    majority = int(sum(predictions) > len(predictions) / 2)\n",
    "    return {\n",
    "        \"prediction\": majority,\n",
    "        \"paragraph_predictions\": predictions,\n",
    "        \"num_paragraphs\": len(paragraphs),\n",
    "    }"
   ]
  },
  {
   "cell_type": "code",
   "execution_count": 5,
   "id": "0cf35747-687f-4fb0-bab8-bb6e42202907",
   "metadata": {},
   "outputs": [],
   "source": [
    "def predict_sentence(text, tokenizer, model, context_size=2):\n",
    "    sentences = sent_tokenize(text)\n",
    "    \n",
    "    model.eval()\n",
    "\n",
    "    predictions = []\n",
    "    for i in range(len(sentences)):\n",
    "        start = max(0, i - context_size)\n",
    "        end = min(len(sentences), i + context_size + 1)\n",
    "        context = sentences[start:i] + [f\"[TARGET] {sentences[i]} [/TARGET]\"] + sentences[i+1:end]\n",
    "        input_text = \" \".join(context)\n",
    "\n",
    "        inputs = tokenizer(input_text, return_tensors=\"pt\", truncation=True, padding=True, max_length=512)\n",
    "        with torch.no_grad():\n",
    "            outputs = model(**inputs)\n",
    "            probs = F.softmax(outputs.logits, dim=-1)\n",
    "            pred = torch.argmax(probs, dim=-1).item()\n",
    "            predictions.append(pred)\n",
    "\n",
    "    majority = int(sum(predictions) > len(predictions) / 2)\n",
    "    return {\n",
    "        \"prediction\": majority,\n",
    "        \"sentence_predictions\": predictions,\n",
    "        \"num_sentences\": len(sentences),\n",
    "    }"
   ]
  },
  {
   "cell_type": "code",
   "execution_count": 6,
   "id": "90fa8899-9ed0-4cd9-88cc-f741d8055c43",
   "metadata": {},
   "outputs": [],
   "source": [
    "def aggregation_strategy1_prediction(input, whole_text_classification_model, whole_text_classification_tokenizer,\n",
    "                          paragraph_classification_model, paragraph_classification_tokenizer,\n",
    "                          sentence_classification_model, sentence_classification_tokenizer\n",
    "                         ):\n",
    "    \"\"\"\n",
    "    Uses all three models to classify given input string.\n",
    "    Decision is made by majority vote\n",
    "        Parameters:\n",
    "            - input_text: input text to be classified\n",
    "            - whole_text_classification_model: model for whole text classification\n",
    "            - whole_text_classification_tokenizer: tokenizer for whole text model\n",
    "            - paragraph_classification_model: model for paragraph classification\n",
    "            - paragraph_classification_tokenizer: tokenizer for paragraph model\n",
    "            - sentence_classification_model: model for sentence classification\n",
    "            - sentence_classification_tokenizer: tokenizer for sentence model\n",
    "        Returns:\n",
    "            - prediction: prediction of the input text (0 = human, 1 = AI)\n",
    "    \"\"\"\n",
    "    pred_whole_text = predict_whole_text(input, whole_text_classification_tokenizer, whole_text_classification_model)\n",
    "    pred_paragraph = predict_paragraph(input, paragraph_classification_tokenizer, paragraph_classification_model)\n",
    "    pred_sentence = predict_sentence(input, sentence_classification_tokenizer, sentence_classification_model)\n",
    "\n",
    "    return 1 if pred_whole_text[\"prediction\"] + pred_paragraph[\"prediction\"] + pred_sentence[\"prediction\"] >= 2 else 0"
   ]
  },
  {
   "cell_type": "code",
   "execution_count": 7,
   "id": "469c9b33-5ea7-48d4-a3a5-862022c01489",
   "metadata": {},
   "outputs": [],
   "source": [
    "# TODO - load all 3 models/tokenizers"
   ]
  },
  {
   "cell_type": "code",
   "execution_count": 8,
   "id": "9c3e1c17-c430-49ac-b576-88fffa564525",
   "metadata": {},
   "outputs": [],
   "source": [
    "# TODO - load test data"
   ]
  },
  {
   "cell_type": "code",
   "execution_count": 9,
   "id": "73c5c17b-5f6c-4837-b3af-5e04779b03cd",
   "metadata": {},
   "outputs": [],
   "source": [
    "# TODO - evaluate"
   ]
  }
 ],
 "metadata": {
  "kernelspec": {
   "display_name": "Python 3 (ipykernel)",
   "language": "python",
   "name": "python3"
  },
  "language_info": {
   "codemirror_mode": {
    "name": "ipython",
    "version": 3
   },
   "file_extension": ".py",
   "mimetype": "text/x-python",
   "name": "python",
   "nbconvert_exporter": "python",
   "pygments_lexer": "ipython3",
   "version": "3.9.1"
  }
 },
 "nbformat": 4,
 "nbformat_minor": 5
}
